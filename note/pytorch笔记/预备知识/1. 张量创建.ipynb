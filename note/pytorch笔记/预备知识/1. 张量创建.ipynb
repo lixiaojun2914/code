{
 "cells": [
  {
   "cell_type": "markdown",
   "id": "9c80dfa7-4048-43b2-9930-d256844987c2",
   "metadata": {},
   "source": [
    "### **导入package**"
   ]
  },
  {
   "cell_type": "code",
   "execution_count": 35,
   "id": "0234c3c4",
   "metadata": {
    "tags": []
   },
   "outputs": [],
   "source": [
    "import torch\n",
    "import numpy as np"
   ]
  },
  {
   "cell_type": "markdown",
   "id": "df74207d-bf0c-4f18-9970-484123d17e95",
   "metadata": {},
   "source": [
    "### **直接从list创建**"
   ]
  },
  {
   "cell_type": "code",
   "execution_count": 41,
   "id": "da30258d",
   "metadata": {
    "tags": []
   },
   "outputs": [
    {
     "data": {
      "text/plain": [
       "tensor([[2, 1, 4, 3],\n",
       "        [1, 2, 3, 4],\n",
       "        [4, 3, 2, 1]])"
      ]
     },
     "execution_count": 41,
     "metadata": {},
     "output_type": "execute_result"
    }
   ],
   "source": [
    "torch.tensor([[2, 1, 4, 3], [1, 2, 3, 4], [4, 3, 2, 1]])"
   ]
  },
  {
   "cell_type": "markdown",
   "id": "af188710-222f-47f7-a0fa-76f8379fcefb",
   "metadata": {},
   "source": [
    "### **Tensor和ndarray相互转化**"
   ]
  },
  {
   "cell_type": "code",
   "execution_count": 56,
   "id": "fdb956a2-1e67-4cb8-8621-a24b3efe320f",
   "metadata": {},
   "outputs": [
    {
     "data": {
      "text/plain": [
       "tensor([[1, 2],\n",
       "        [3, 4]])"
      ]
     },
     "execution_count": 56,
     "metadata": {},
     "output_type": "execute_result"
    }
   ],
   "source": [
    "np_array = np.array([[1, 2], [3, 4]])\n",
    "x_np = torch.from_numpy(np_array)\n",
    "x_np"
   ]
  },
  {
   "cell_type": "code",
   "execution_count": 50,
   "id": "edf075b2-0586-4420-85b0-e8d80859c52b",
   "metadata": {},
   "outputs": [
    {
     "data": {
      "text/plain": [
       "array([[1, 2],\n",
       "       [3, 4]])"
      ]
     },
     "execution_count": 50,
     "metadata": {},
     "output_type": "execute_result"
    }
   ],
   "source": [
    "x_np.numpy()"
   ]
  },
  {
   "cell_type": "markdown",
   "id": "60a6f23d-51f2-41cd-8d09-de8d1e09a9f8",
   "metadata": {},
   "source": [
    "### **reshape Tensor**"
   ]
  },
  {
   "cell_type": "code",
   "execution_count": 51,
   "id": "63c5a8f2",
   "metadata": {
    "tags": []
   },
   "outputs": [
    {
     "data": {
      "text/plain": [
       "tensor([[ 0,  1,  2,  3],\n",
       "        [ 4,  5,  6,  7],\n",
       "        [ 8,  9, 10, 11]])"
      ]
     },
     "execution_count": 51,
     "metadata": {},
     "output_type": "execute_result"
    }
   ],
   "source": [
    "x = torch.arange(12).reshape(3, 4)\n",
    "x"
   ]
  },
  {
   "cell_type": "markdown",
   "id": "d67fd34a-d2ff-40a0-8ad4-f530393a0823",
   "metadata": {},
   "source": [
    "### **Tensor的属性**"
   ]
  },
  {
   "cell_type": "code",
   "execution_count": 52,
   "id": "9d20395c",
   "metadata": {},
   "outputs": [
    {
     "name": "stdout",
     "output_type": "stream",
     "text": [
      "torch.Size([3, 4])\n",
      "12\n",
      "torch.int64\n",
      "cpu\n"
     ]
    }
   ],
   "source": [
    "print(x.shape)\n",
    "print(x.numel())\n",
    "print(x.dtype)\n",
    "print(x.device)"
   ]
  },
  {
   "cell_type": "markdown",
   "id": "fff88d51-e1eb-4aa1-8070-3d2a7f91c7f6",
   "metadata": {},
   "source": [
    "### **创建常见类型的Tensor**"
   ]
  },
  {
   "cell_type": "code",
   "execution_count": null,
   "id": "6e820472-f86e-4ef8-9494-1998ee6d1946",
   "metadata": {},
   "outputs": [],
   "source": [
    "zeros_x = torch.zeros((2, 3, 4))\n",
    "ones_x = torch.ones((2, 3, 4))\n",
    "randn_x = torch.randn(3, 4)\n",
    "print(zeros_x)\n",
    "print(ones_x)\n",
    "print(randn_x)"
   ]
  },
  {
   "cell_type": "markdown",
   "id": "f4c64403-4ae5-4f3f-ad56-dd0af0ac7b52",
   "metadata": {},
   "source": [
    "### **从已有的Tensor创建**"
   ]
  },
  {
   "cell_type": "code",
   "execution_count": 49,
   "id": "6ef468ca-1512-4c57-890c-f81d4041da45",
   "metadata": {},
   "outputs": [
    {
     "name": "stdout",
     "output_type": "stream",
     "text": [
      "tensor([[0, 0, 0, 0],\n",
      "        [0, 0, 0, 0],\n",
      "        [0, 0, 0, 0]])\n",
      "tensor([[1, 1, 1, 1],\n",
      "        [1, 1, 1, 1],\n",
      "        [1, 1, 1, 1]])\n",
      "tensor([[-2.0427,  0.4876, -0.2978,  2.4372],\n",
      "        [ 0.6115, -1.3396, -1.5349, -1.6119],\n",
      "        [ 1.0172,  0.5386,  0.3517,  0.8298]])\n"
     ]
    }
   ],
   "source": [
    "zl_x = torch.zeros_like(x)\n",
    "ol_x = torch.ones_like(x)\n",
    "rl_x = torch.randn_like(x, dtype=torch.float)\n",
    "print(zl_x)\n",
    "print(ol_x)\n",
    "print(rl_x)"
   ]
  }
 ],
 "metadata": {
  "interpreter": {
   "hash": "783e9d04592fe743f6f38bc17b6cf6e0d2a480b31b1e94ebccd15349d3ba7b9d"
  },
  "kernelspec": {
   "display_name": "Python 3 (ipykernel)",
   "language": "python",
   "name": "python3"
  },
  "language_info": {
   "codemirror_mode": {
    "name": "ipython",
    "version": 3
   },
   "file_extension": ".py",
   "mimetype": "text/x-python",
   "name": "python",
   "nbconvert_exporter": "python",
   "pygments_lexer": "ipython3",
   "version": "3.9.6"
  }
 },
 "nbformat": 4,
 "nbformat_minor": 5
}
