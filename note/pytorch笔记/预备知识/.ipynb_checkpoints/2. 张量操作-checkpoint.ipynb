{
 "cells": [
  {
   "cell_type": "code",
   "execution_count": 1,
   "id": "9df057fd-dd2a-453a-8e06-aae1f760c0f7",
   "metadata": {},
   "outputs": [],
   "source": [
    "import torch"
   ]
  },
  {
   "cell_type": "markdown",
   "id": "a32a03b9-9a63-4c00-a6f8-ba75eac020d7",
   "metadata": {},
   "source": [
    "### **常见数学运算**"
   ]
  },
  {
   "cell_type": "code",
   "execution_count": 28,
   "id": "a412f4f2-6dfe-429d-b93e-600a9ced91cf",
   "metadata": {},
   "outputs": [
    {
     "data": {
      "text/plain": [
       "(tensor([ 3.,  4.,  6., 10.]),\n",
       " tensor([-1.,  0.,  2.,  6.]),\n",
       " tensor([ 2.,  4.,  8., 16.]),\n",
       " tensor([0.5000, 1.0000, 2.0000, 4.0000]),\n",
       " tensor([ 1.,  4., 16., 64.]),\n",
       " tensor([2.7183e+00, 7.3891e+00, 5.4598e+01, 2.9810e+03]),\n",
       " tensor([False,  True, False, False]),\n",
       " tensor(15.))"
      ]
     },
     "execution_count": 28,
     "metadata": {},
     "output_type": "execute_result"
    }
   ],
   "source": [
    "x = torch.tensor([1.0, 2, 4, 8])\n",
    "y = torch.tensor([2.0, 2, 2, 2])\n",
    "x + y, x - y, x * y, x / y, x ** y, torch.exp(x), x == y, x.sum()"
   ]
  },
  {
   "cell_type": "markdown",
   "id": "32845851-11b2-44e2-bab2-930514c42d4c",
   "metadata": {},
   "source": [
    "### **Tensor的拼接**"
   ]
  },
  {
   "cell_type": "code",
   "execution_count": 15,
   "id": "50a09b25-30b3-4838-b59e-23132cdb076e",
   "metadata": {},
   "outputs": [
    {
     "data": {
      "text/plain": [
       "(tensor([[ 0.,  1.,  2.,  3.],\n",
       "         [ 4.,  5.,  6.,  7.],\n",
       "         [ 8.,  9., 10., 11.],\n",
       "         [ 2.,  1.,  4.,  3.],\n",
       "         [ 1.,  2.,  3.,  4.],\n",
       "         [ 4.,  3.,  2.,  1.]]),\n",
       " tensor([[ 0.,  1.,  2.,  3.,  2.,  1.,  4.,  3.],\n",
       "         [ 4.,  5.,  6.,  7.,  1.,  2.,  3.,  4.],\n",
       "         [ 8.,  9., 10., 11.,  4.,  3.,  2.,  1.]]))"
      ]
     },
     "execution_count": 15,
     "metadata": {},
     "output_type": "execute_result"
    }
   ],
   "source": [
    "X = torch.arange(12, dtype=torch.float32).reshape((3, 4))\n",
    "Y = torch.tensor([[2.0, 1, 4, 3], [1, 2, 3, 4], [4, 3, 2, 1]])\n",
    "torch.cat((X, Y), dim=0), torch.cat((X, Y), dim=1)"
   ]
  },
  {
   "cell_type": "markdown",
   "id": "0a325b08-5c26-43bc-96df-5c402bcfdc3a",
   "metadata": {},
   "source": [
    "### **向量点积**"
   ]
  },
  {
   "cell_type": "code",
   "execution_count": 31,
   "id": "5b4f0081-c484-4b7f-9ba8-55372597ed0f",
   "metadata": {},
   "outputs": [
    {
     "data": {
      "text/plain": [
       "tensor(30.)"
      ]
     },
     "execution_count": 31,
     "metadata": {},
     "output_type": "execute_result"
    }
   ],
   "source": [
    "torch.dot(x, y)"
   ]
  },
  {
   "cell_type": "markdown",
   "id": "6ea58c53-f4e9-493e-b464-f0a7108ee7c9",
   "metadata": {},
   "source": [
    "### **矩阵向量乘法**"
   ]
  },
  {
   "cell_type": "code",
   "execution_count": 35,
   "id": "e085bc9c-e581-4409-b983-d3c163d7a832",
   "metadata": {},
   "outputs": [
    {
     "data": {
      "text/plain": [
       "tensor([32., 64., 96.])"
      ]
     },
     "execution_count": 35,
     "metadata": {},
     "output_type": "execute_result"
    }
   ],
   "source": [
    "torch.mv(X, y)"
   ]
  },
  {
   "cell_type": "markdown",
   "id": "810b7330-5aec-4791-8dfe-c46b7383b696",
   "metadata": {},
   "source": [
    "### **张量矩阵乘法**"
   ]
  },
  {
   "cell_type": "code",
   "execution_count": 37,
   "id": "ca41dfd0-40bb-4e9b-b206-bdf835d2e3b4",
   "metadata": {},
   "outputs": [
    {
     "data": {
      "text/plain": [
       "tensor([[ 48.,  48.,  32.],\n",
       "        [ 86.,  90.,  70.],\n",
       "        [120., 120., 120.]])"
      ]
     },
     "execution_count": 37,
     "metadata": {},
     "output_type": "execute_result"
    }
   ],
   "source": [
    "X.matmul(Y.T)"
   ]
  },
  {
   "cell_type": "code",
   "execution_count": 24,
   "id": "6f170293-6d3f-40f3-bbc4-3f29d570d8d8",
   "metadata": {},
   "outputs": [
    {
     "data": {
      "text/plain": [
       "tensor([[ 4.,  2., 24., 18.],\n",
       "        [ 5., 14., 27., 44.],\n",
       "        [48., 36., 24., 12.]])"
      ]
     },
     "execution_count": 24,
     "metadata": {},
     "output_type": "execute_result"
    }
   ],
   "source": [
    "X * Y"
   ]
  },
  {
   "cell_type": "markdown",
   "id": "3b02a00e-d24b-4dfe-bcac-0faa5963a9fa",
   "metadata": {},
   "source": [
    "### **范数**"
   ]
  },
  {
   "cell_type": "code",
   "execution_count": 44,
   "id": "51acaf1e-118c-49eb-8329-7a9ea4d03ee3",
   "metadata": {},
   "outputs": [
    {
     "data": {
      "text/plain": [
       "(tensor(30.5287), tensor(96.))"
      ]
     },
     "execution_count": 44,
     "metadata": {},
     "output_type": "execute_result"
    }
   ],
   "source": [
    "torch.norm(X), torch.norm(X, p=1)"
   ]
  },
  {
   "cell_type": "markdown",
   "id": "47f71d52-5fdc-469e-b044-ab6585c2ab5a",
   "metadata": {},
   "source": [
    "### **原地操作**"
   ]
  },
  {
   "cell_type": "code",
   "execution_count": 18,
   "id": "1d769231-cc8c-4a47-9b2b-8e92402f76cd",
   "metadata": {},
   "outputs": [
    {
     "data": {
      "text/plain": [
       "tensor([[ 2.,  2.,  6.,  6.],\n",
       "        [ 5.,  7.,  9., 11.],\n",
       "        [12., 12., 12., 12.]])"
      ]
     },
     "execution_count": 18,
     "metadata": {},
     "output_type": "execute_result"
    }
   ],
   "source": [
    "X.add_(Y)\n",
    "X"
   ]
  }
 ],
 "metadata": {
  "kernelspec": {
   "display_name": "Python 3 (ipykernel)",
   "language": "python",
   "name": "python3"
  },
  "language_info": {
   "codemirror_mode": {
    "name": "ipython",
    "version": 3
   },
   "file_extension": ".py",
   "mimetype": "text/x-python",
   "name": "python",
   "nbconvert_exporter": "python",
   "pygments_lexer": "ipython3",
   "version": "3.9.6"
  }
 },
 "nbformat": 4,
 "nbformat_minor": 5
}
