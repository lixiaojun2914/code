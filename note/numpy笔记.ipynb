{
 "cells": [
  {
   "cell_type": "markdown",
   "metadata": {},
   "source": [
    "### ndarray属性\n",
    "* ndarray.ndim\n",
    "\n",
    "> array的维数(axex)\n",
    "\n",
    "* ndarray.shape\n",
    "\n",
    "> array的shape\n",
    "\n",
    "* ndarray.size\n",
    "\n",
    "> array中元素的数量，相当于shape所有分量的乘积\n",
    "\n",
    "* ndarray.dtype\n",
    "\n",
    "> array中元素的数据类型\n",
    "\n",
    "* ndarray.itemsize\n",
    "\n",
    "> array中数据元素的大小\n"
   ]
  },
  {
   "cell_type": "code",
   "execution_count": 2,
   "metadata": {},
   "outputs": [
    {
     "data": {
      "text/plain": [
       "(2, (3, 5), 15, dtype('float32'), 4)"
      ]
     },
     "execution_count": 2,
     "metadata": {},
     "output_type": "execute_result"
    }
   ],
   "source": [
    "import numpy as np\n",
    "a = np.arange(15).reshape(3, 5).astype(np.float32)\n",
    "a.ndim, a.shape, a.size, a.dtype, a.itemsize"
   ]
  },
  {
   "cell_type": "markdown",
   "metadata": {},
   "source": [
    "### 创建ndarray"
   ]
  },
  {
   "cell_type": "code",
   "execution_count": 3,
   "metadata": {},
   "outputs": [
    {
     "name": "stdout",
     "output_type": "stream",
     "text": [
      "array\n",
      "[1 2 3 4]\n",
      "\n",
      "ones\n",
      "[[1. 1. 1.]\n",
      " [1. 1. 1.]]\n",
      "\n",
      "zeros\n",
      "[[0. 0. 0.]\n",
      " [0. 0. 0.]]\n",
      "\n",
      "empty\n",
      "[[0. 0. 0.]\n",
      " [0. 0. 0.]]\n",
      "\n",
      "full\n",
      "[[111 111 111]\n",
      " [111 111 111]]\n",
      "\n",
      "eye\n",
      "[[1. 0. 0.]\n",
      " [0. 1. 0.]\n",
      " [0. 0. 1.]]\n",
      "\n",
      "arange\n",
      "[0 2 4 6 8]\n",
      "\n",
      "linspace\n",
      "[ 0.   2.5  5.   7.5 10. ]\n",
      "\n",
      "randint\n",
      "[[4 0 0]\n",
      " [3 2 3]]\n",
      "\n",
      "random\n",
      "[[0.11228994 0.50129737 0.26839745 0.4957756 ]\n",
      " [0.65700567 0.91416251 0.81915295 0.73489913]]\n",
      "\n",
      "normal\n",
      "[[-0.66070718 -0.26062192 -0.52472106]\n",
      " [ 1.47088667 -1.72661961 -0.00743626]]\n",
      "\n"
     ]
    }
   ],
   "source": [
    "# 从List创建\n",
    "a = np.array([1, 2, 3, 4], dtype=np.int)\n",
    "print('array{0}{1}{2}'.format('\\n', a, '\\n'))\n",
    "\n",
    "# 创建全是1的数组\n",
    "a = np.ones((2, 3))\n",
    "print('ones{0}{1}{2}'.format('\\n', a, '\\n'))\n",
    "\n",
    "# 创建1全是0的数组\n",
    "a = np.zeros((2, 3))\n",
    "print('zeros{0}{1}{2}'.format('\\n', a, '\\n'))\n",
    "\n",
    "# 创建对内存不进行初始化的数组\n",
    "a = np.empty((2, 3))\n",
    "print('empty{0}{1}{2}'.format('\\n', a, '\\n'))\n",
    "\n",
    "# 创建含有指定元素的数字\n",
    "a = np.full((2, 3), 111)\n",
    "print('full{0}{1}{2}'.format('\\n', a, '\\n'))\n",
    "\n",
    "# 创建对角元素全为1的矩阵\n",
    "a = np.eye(3)\n",
    "print('eye{0}{1}{2}'.format('\\n', a, '\\n'))\n",
    "\n",
    "# 创建从0到10，步长为2的数组\n",
    "a = np.arange(0, 10, 2)\n",
    "print('arange{0}{1}{2}'.format('\\n', a, '\\n'))\n",
    "\n",
    "# 创建0到10之间，均匀分布长度为5的数组\n",
    "a = np.linspace(0, 10, 5)\n",
    "print('linspace{0}{1}{2}'.format('\\n', a, '\\n'))\n",
    "\n",
    "# 生成[0, 5)之间，shape为(2, 3)的随机整数\n",
    "a = np.random.randint(0, 5, (2, 3))\n",
    "print('randint{0}{1}{2}'.format('\\n', a, '\\n'))\n",
    "\n",
    "# 生成(0, 1)之间的随机浮点数\n",
    "a = np.random.random((2, 4))\n",
    "print('random{0}{1}{2}'.format('\\n', a, '\\n'))\n",
    "\n",
    "# 生成正态分布的随机数组\n",
    "a = np.random.normal(loc=0, scale=1, size=(2, 3))\n",
    "print('normal{0}{1}{2}'.format('\\n', a, '\\n'))"
   ]
  },
  {
   "cell_type": "markdown",
   "metadata": {},
   "source": [
    "### ndarray常见操作\n",
    "> ### reshape"
   ]
  },
  {
   "cell_type": "code",
   "execution_count": 4,
   "metadata": {
    "scrolled": true
   },
   "outputs": [
    {
     "name": "stdout",
     "output_type": "stream",
     "text": [
      "[[ 0  1  2  3  4]\n",
      " [ 5  6  7  8  9]\n",
      " [10 11 12 13 14]] \n",
      "\n",
      "[[ 0]\n",
      " [ 1]\n",
      " [ 2]\n",
      " [ 3]\n",
      " [ 4]\n",
      " [ 5]\n",
      " [ 6]\n",
      " [ 7]\n",
      " [ 8]\n",
      " [ 9]\n",
      " [10]\n",
      " [11]\n",
      " [12]\n",
      " [13]\n",
      " [14]] \n",
      "\n",
      "[[ 0  1  2  3  4  5  6  7  8  9 10 11 12 13 14]] \n",
      "\n"
     ]
    }
   ],
   "source": [
    "# reshape\n",
    "x = np.arange(15)\n",
    "a = x.reshape(3 ,5)\n",
    "# 如果只关心需要多少行或者多少列，其余维填-1即可\n",
    "b = x.reshape(15, -1)\n",
    "c = x.reshape(-1, 15)\n",
    "print(a, '\\n')\n",
    "print(b, '\\n')\n",
    "print(c, '\\n')"
   ]
  },
  {
   "cell_type": "markdown",
   "metadata": {},
   "source": [
    "> ### 矩阵乘法"
   ]
  },
  {
   "cell_type": "code",
   "execution_count": 5,
   "metadata": {},
   "outputs": [
    {
     "name": "stdout",
     "output_type": "stream",
     "text": [
      "[[2 0]\n",
      " [0 4]] \n",
      "\n",
      "[[5 4]\n",
      " [3 4]] \n",
      "\n",
      "[[5 4]\n",
      " [3 4]] \n",
      "\n",
      "[[5 4]\n",
      " [3 4]] \n",
      "\n"
     ]
    }
   ],
   "source": [
    "# 矩阵乘法\n",
    "A = np.array( [[1,1],\n",
    "               [0,1]] )\n",
    "B = np.array( [[2,0],\n",
    "               [3,4]] )\n",
    "# element product\n",
    "print(A * B, '\\n')\n",
    "\n",
    "# matrix product\n",
    "print(A @ B, '\\n')\n",
    "print(A.dot(B), '\\n')\n",
    "print(np.matmul(A, B), '\\n')"
   ]
  },
  {
   "cell_type": "markdown",
   "metadata": {},
   "source": [
    "> ### 矩阵转置"
   ]
  },
  {
   "cell_type": "code",
   "execution_count": 6,
   "metadata": {},
   "outputs": [
    {
     "name": "stdout",
     "output_type": "stream",
     "text": [
      "[[1 4]\n",
      " [2 5]\n",
      " [3 6]]\n"
     ]
    }
   ],
   "source": [
    "a = np.arange(1, 7).reshape(2, -1)\n",
    "print(a.T)"
   ]
  },
  {
   "cell_type": "markdown",
   "metadata": {},
   "source": [
    "> ### 矩阵求逆"
   ]
  },
  {
   "cell_type": "code",
   "execution_count": 7,
   "metadata": {},
   "outputs": [
    {
     "name": "stdout",
     "output_type": "stream",
     "text": [
      "[[-1.5  0.5]\n",
      " [ 1.   0. ]] \n",
      "\n",
      "[[1. 0.]\n",
      " [0. 1.]] \n",
      "\n"
     ]
    }
   ],
   "source": [
    "import numpy.linalg as lg\n",
    "A = np.array([[0, 1], [2, 3]])\n",
    "invA = lg.inv(A)\n",
    "print(invA, '\\n')\n",
    "print(A.dot(invA), '\\n')"
   ]
  },
  {
   "cell_type": "markdown",
   "metadata": {},
   "source": [
    "> ### 排序"
   ]
  },
  {
   "cell_type": "code",
   "execution_count": 8,
   "metadata": {},
   "outputs": [
    {
     "name": "stdout",
     "output_type": "stream",
     "text": [
      "[ 0 12  6  2 13  3  7  5  4  9  1 10  8 14 11]\n",
      "[ 0 10  3  5  8  7  2  6 12  9 11 14  1  4 13]\n",
      "[ 0  1  2  3  4  5  6  7  8  9 10 11 12 13 14]\n"
     ]
    }
   ],
   "source": [
    "x = np.arange(15)\n",
    "np.random.shuffle(x)\n",
    "print(x)\n",
    "sx = np.argsort(x)\n",
    "print(sx)\n",
    "px = np.sort(x)\n",
    "print(px)"
   ]
  },
  {
   "cell_type": "markdown",
   "metadata": {},
   "source": [
    "> ### 数组大小比较"
   ]
  },
  {
   "cell_type": "code",
   "execution_count": 19,
   "metadata": {},
   "outputs": [
    {
     "name": "stdout",
     "output_type": "stream",
     "text": [
      "4\n",
      "(array([0, 0, 0, 0], dtype=int64), array([0, 1, 2, 3], dtype=int64))\n",
      "[0 1 2 3]\n",
      "True\n",
      "False\n",
      "14\n",
      "0\n"
     ]
    }
   ],
   "source": [
    "x = np.arange(15).reshape(3, 5)\n",
    "cn = np.count_nonzero(x<=3)\n",
    "wh = np.where(x<=3)\n",
    "ex = np.extract(x<=3, x)\n",
    "print(cn)\n",
    "print(wh)\n",
    "print(ex)\n",
    "print(np.any(x == 0))\n",
    "print(np.all(x > 0))\n",
    "\n",
    "print(np.argmax(x))\n",
    "print(np.argmin(x))"
   ]
  },
  {
   "cell_type": "markdown",
   "metadata": {},
   "source": [
    "> ### 数组flatten"
   ]
  },
  {
   "cell_type": "code",
   "execution_count": 10,
   "metadata": {},
   "outputs": [
    {
     "name": "stdout",
     "output_type": "stream",
     "text": [
      "[[ 0  1  2  3  4]\n",
      " [ 5  6  7  8  9]\n",
      " [10 11 12 13 14]]\n",
      "[ 0  1  2  3  4  5  6  7  8  9 10 11 12 13 14]\n",
      "[ 0  1  2  3  4  5  6  7  8  9 10 11 12 13 14]\n"
     ]
    }
   ],
   "source": [
    "# flatten和ravel都可以将数组展开，但flatten返回的是数组的拷贝，而ravel返回的是数组的视图\n",
    "x = np.arange(15).reshape(3, 5)\n",
    "a = x.flatten()\n",
    "print(x)\n",
    "print(a)\n",
    "print(x.ravel())"
   ]
  },
  {
   "cell_type": "markdown",
   "metadata": {},
   "source": [
    "> ### 数组拼接"
   ]
  },
  {
   "cell_type": "code",
   "execution_count": 11,
   "metadata": {},
   "outputs": [
    {
     "name": "stdout",
     "output_type": "stream",
     "text": [
      "[[1 1]\n",
      " [0 1]\n",
      " [2 0]\n",
      " [3 4]]\n",
      "\n",
      "\n",
      "[[1 1 2 0]\n",
      " [0 1 3 4]]\n"
     ]
    }
   ],
   "source": [
    "A = np.array( [[1,1],\n",
    "               [0,1]] )\n",
    "B = np.array( [[2,0],\n",
    "               [3,4]] )\n",
    "print(np.vstack((A, B)))\n",
    "print('\\n')\n",
    "print(np.hstack((A, B)))"
   ]
  },
  {
   "cell_type": "markdown",
   "metadata": {},
   "source": [
    "> ### 数组split\n",
    "### "
   ]
  },
  {
   "cell_type": "code",
   "execution_count": 12,
   "metadata": {},
   "outputs": [
    {
     "name": "stdout",
     "output_type": "stream",
     "text": [
      "[[ 0  1  2  3  4  5  6  7  8  9 10 11]\n",
      " [12 13 14 15 16 17 18 19 20 21 22 23]]\n",
      "\n",
      "\n",
      "[array([[ 0,  1,  2,  3],\n",
      "       [12, 13, 14, 15]]), array([[ 4,  5,  6,  7],\n",
      "       [16, 17, 18, 19]]), array([[ 8,  9, 10, 11],\n",
      "       [20, 21, 22, 23]])]\n",
      "\n",
      "\n",
      "[array([[ 0,  1,  2],\n",
      "       [12, 13, 14]]), array([[ 3],\n",
      "       [15]]), array([[ 4,  5,  6,  7,  8,  9, 10, 11],\n",
      "       [16, 17, 18, 19, 20, 21, 22, 23]])]\n"
     ]
    }
   ],
   "source": [
    "a = np.arange(24).reshape(2, 12)\n",
    "print(a)\n",
    "print('\\n')\n",
    "print(np.hsplit(a, 3))\n",
    "print('\\n')\n",
    "print(np.hsplit(a, (3, 4)))"
   ]
  },
  {
   "cell_type": "markdown",
   "metadata": {},
   "source": [
    "> ### deep copy"
   ]
  },
  {
   "cell_type": "code",
   "execution_count": 13,
   "metadata": {},
   "outputs": [
    {
     "name": "stdout",
     "output_type": "stream",
     "text": [
      "[ 0  1  2  3  4  5  6  7  8  9 10 11 12 13 14 15 16 17 18 19 20 21 22 23\n",
      " 24 25 26 27 28 29 30 31 32 33 34 35 36 37 38 39 40 41 42 43 44 45 46 47\n",
      " 48 49 50 51 52 53 54 55 56 57 58 59 60 61 62 63 64 65 66 67 68 69 70 71\n",
      " 72 73 74 75 76 77 78 79 80 81 82 83 84 85 86 87 88 89 90 91 92 93 94 95\n",
      " 96 97 98 99]\n"
     ]
    }
   ],
   "source": [
    "a = np.arange(int(1e8))\n",
    "b = a[:100].copy()\n",
    "del a\n",
    "print(b)"
   ]
  }
 ],
 "metadata": {
  "kernelspec": {
   "display_name": "Python 3",
   "language": "python",
   "name": "python3"
  },
  "language_info": {
   "codemirror_mode": {
    "name": "ipython",
    "version": 3
   },
   "file_extension": ".py",
   "mimetype": "text/x-python",
   "name": "python",
   "nbconvert_exporter": "python",
   "pygments_lexer": "ipython3",
   "version": "3.8.5"
  }
 },
 "nbformat": 4,
 "nbformat_minor": 4
}
