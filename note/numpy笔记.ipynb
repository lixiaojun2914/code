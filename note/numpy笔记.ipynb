{
 "cells": [
  {
   "cell_type": "markdown",
   "metadata": {},
   "source": [
    "### ndarray属性\n",
    "* ndarray.ndim\n",
    "\n",
    "> array的维数(axex)\n",
    "\n",
    "* ndarray.shape\n",
    "\n",
    "> array的shape\n",
    "\n",
    "* ndarray.size\n",
    "\n",
    "> array中元素的数量，相当于shape所有分量的乘积\n",
    "\n",
    "* ndarray.dtype\n",
    "\n",
    "> array中元素的数据类型\n",
    "\n",
    "* ndarray.itemsize\n",
    "\n",
    "> array中数据元素的大小\n"
   ]
  },
  {
   "cell_type": "code",
<<<<<<< HEAD
   "execution_count": 39,
=======
   "execution_count": 2,
>>>>>>> a0ccd9569341e5eacb241a1d13d450cfa27585d6
   "metadata": {},
   "outputs": [
    {
     "data": {
      "text/plain": [
       "(2, (3, 5), 15, dtype('float32'), 4)"
      ]
     },
<<<<<<< HEAD
     "execution_count": 39,
=======
     "execution_count": 2,
>>>>>>> a0ccd9569341e5eacb241a1d13d450cfa27585d6
     "metadata": {},
     "output_type": "execute_result"
    }
   ],
   "source": [
    "import numpy as np\n",
    "a = np.arange(15).reshape(3, 5).astype(np.float32)\n",
    "a.ndim, a.shape, a.size, a.dtype, a.itemsize"
   ]
  },
  {
   "cell_type": "markdown",
   "metadata": {},
   "source": [
    "### 创建ndarray"
   ]
  },
  {
   "cell_type": "code",
<<<<<<< HEAD
   "execution_count": 40,
=======
   "execution_count": 3,
>>>>>>> a0ccd9569341e5eacb241a1d13d450cfa27585d6
   "metadata": {},
   "outputs": [
    {
     "name": "stdout",
     "output_type": "stream",
     "text": [
      "array\n",
      "[1 2 3 4]\n",
      "\n",
      "ones\n",
      "[[1. 1. 1.]\n",
      " [1. 1. 1.]]\n",
      "\n",
      "zeros\n",
      "[[0. 0. 0.]\n",
      " [0. 0. 0.]]\n",
      "\n",
      "empty\n",
      "[[0. 0. 0.]\n",
      " [0. 0. 0.]]\n",
      "\n",
      "full\n",
      "[[111 111 111]\n",
      " [111 111 111]]\n",
      "\n",
      "eye\n",
      "[[1. 0. 0.]\n",
      " [0. 1. 0.]\n",
      " [0. 0. 1.]]\n",
      "\n",
      "arange\n",
      "[0 2 4 6 8]\n",
      "\n",
      "linspace\n",
      "[ 0.   2.5  5.   7.5 10. ]\n",
      "\n",
      "randint\n",
<<<<<<< HEAD
      "[[1 4 3]\n",
      " [4 1 4]]\n",
      "\n",
      "random\n",
      "[[0.16155529 0.32676417 0.94916797 0.46673318]\n",
      " [0.78498268 0.39378894 0.12467063 0.50317669]]\n",
      "\n",
      "normal\n",
      "[[-0.41155305 -0.6261542  -1.26659111]\n",
      " [-0.15133197  0.39819626 -1.84191463]]\n",
=======
      "[[4 0 0]\n",
      " [3 2 3]]\n",
      "\n",
      "random\n",
      "[[0.11228994 0.50129737 0.26839745 0.4957756 ]\n",
      " [0.65700567 0.91416251 0.81915295 0.73489913]]\n",
      "\n",
      "normal\n",
      "[[-0.66070718 -0.26062192 -0.52472106]\n",
      " [ 1.47088667 -1.72661961 -0.00743626]]\n",
>>>>>>> a0ccd9569341e5eacb241a1d13d450cfa27585d6
      "\n"
     ]
    }
   ],
   "source": [
    "# 从List创建\n",
    "a = np.array([1, 2, 3, 4], dtype=np.int)\n",
    "print('array{0}{1}{2}'.format('\\n', a, '\\n'))\n",
    "\n",
    "# 创建全是1的数组\n",
    "a = np.ones((2, 3))\n",
    "print('ones{0}{1}{2}'.format('\\n', a, '\\n'))\n",
    "\n",
    "# 创建1全是0的数组\n",
    "a = np.zeros((2, 3))\n",
    "print('zeros{0}{1}{2}'.format('\\n', a, '\\n'))\n",
    "\n",
    "# 创建对内存不进行初始化的数组\n",
    "a = np.empty((2, 3))\n",
    "print('empty{0}{1}{2}'.format('\\n', a, '\\n'))\n",
    "\n",
    "# 创建含有指定元素的数字\n",
    "a = np.full((2, 3), 111)\n",
    "print('full{0}{1}{2}'.format('\\n', a, '\\n'))\n",
    "\n",
    "# 创建对角元素全为1的矩阵\n",
    "a = np.eye(3)\n",
    "print('eye{0}{1}{2}'.format('\\n', a, '\\n'))\n",
    "\n",
    "# 创建从0到10，步长为2的数组\n",
    "a = np.arange(0, 10, 2)\n",
    "print('arange{0}{1}{2}'.format('\\n', a, '\\n'))\n",
    "\n",
    "# 创建0到10之间，均匀分布长度为5的数组\n",
    "a = np.linspace(0, 10, 5)\n",
    "print('linspace{0}{1}{2}'.format('\\n', a, '\\n'))\n",
    "\n",
    "# 生成[0, 5)之间，shape为(2, 3)的随机整数\n",
    "a = np.random.randint(0, 5, (2, 3))\n",
    "print('randint{0}{1}{2}'.format('\\n', a, '\\n'))\n",
    "\n",
    "# 生成(0, 1)之间的随机浮点数\n",
    "a = np.random.random((2, 4))\n",
    "print('random{0}{1}{2}'.format('\\n', a, '\\n'))\n",
    "\n",
    "# 生成正态分布的随机数组\n",
    "a = np.random.normal(loc=0, scale=1, size=(2, 3))\n",
    "print('normal{0}{1}{2}'.format('\\n', a, '\\n'))"
   ]
  },
  {
   "cell_type": "markdown",
   "metadata": {},
   "source": [
    "### ndarray常见操作\n",
    "> ### reshape"
   ]
  },
  {
   "cell_type": "code",
<<<<<<< HEAD
   "execution_count": 41,
=======
   "execution_count": 4,
>>>>>>> a0ccd9569341e5eacb241a1d13d450cfa27585d6
   "metadata": {
    "scrolled": true
   },
   "outputs": [
    {
     "name": "stdout",
     "output_type": "stream",
     "text": [
      "[[ 0  1  2  3  4]\n",
      " [ 5  6  7  8  9]\n",
      " [10 11 12 13 14]] \n",
      "\n",
      "[[ 0]\n",
      " [ 1]\n",
      " [ 2]\n",
      " [ 3]\n",
      " [ 4]\n",
      " [ 5]\n",
      " [ 6]\n",
      " [ 7]\n",
      " [ 8]\n",
      " [ 9]\n",
      " [10]\n",
      " [11]\n",
      " [12]\n",
      " [13]\n",
      " [14]] \n",
      "\n",
      "[[ 0  1  2  3  4  5  6  7  8  9 10 11 12 13 14]] \n",
      "\n"
     ]
    }
   ],
   "source": [
    "# reshape\n",
    "x = np.arange(15)\n",
    "a = x.reshape(3 ,5)\n",
    "# 如果只关心需要多少行或者多少列，其余维填-1即可\n",
    "b = x.reshape(15, -1)\n",
    "c = x.reshape(-1, 15)\n",
    "print(a, '\\n')\n",
    "print(b, '\\n')\n",
    "print(c, '\\n')"
   ]
  },
  {
   "cell_type": "markdown",
   "metadata": {},
   "source": [
    "> ### 矩阵乘法"
   ]
  },
  {
   "cell_type": "code",
<<<<<<< HEAD
   "execution_count": 42,
=======
   "execution_count": 5,
>>>>>>> a0ccd9569341e5eacb241a1d13d450cfa27585d6
   "metadata": {},
   "outputs": [
    {
     "name": "stdout",
     "output_type": "stream",
     "text": [
      "[[2 0]\n",
      " [0 4]] \n",
      "\n",
      "[[5 4]\n",
      " [3 4]] \n",
      "\n",
      "[[5 4]\n",
      " [3 4]] \n",
      "\n",
      "[[5 4]\n",
      " [3 4]] \n",
      "\n"
     ]
    }
   ],
   "source": [
    "# 矩阵乘法\n",
    "A = np.array( [[1,1],\n",
    "               [0,1]] )\n",
    "B = np.array( [[2,0],\n",
    "               [3,4]] )\n",
    "# element product\n",
    "print(A * B, '\\n')\n",
    "\n",
    "# matrix product\n",
    "print(A @ B, '\\n')\n",
    "print(A.dot(B), '\\n')\n",
    "print(np.matmul(A, B), '\\n')"
   ]
  },
  {
   "cell_type": "markdown",
   "metadata": {},
   "source": [
    "> ### 矩阵转置"
   ]
  },
  {
   "cell_type": "code",
<<<<<<< HEAD
   "execution_count": 43,
=======
   "execution_count": 6,
>>>>>>> a0ccd9569341e5eacb241a1d13d450cfa27585d6
   "metadata": {},
   "outputs": [
    {
     "name": "stdout",
     "output_type": "stream",
     "text": [
      "[[1 4]\n",
      " [2 5]\n",
      " [3 6]]\n"
     ]
    }
   ],
   "source": [
    "a = np.arange(1, 7).reshape(2, -1)\n",
    "print(a.T)"
   ]
  },
  {
   "cell_type": "markdown",
   "metadata": {},
   "source": [
    "> ### 矩阵求逆"
   ]
  },
  {
   "cell_type": "code",
<<<<<<< HEAD
   "execution_count": 44,
=======
   "execution_count": 7,
>>>>>>> a0ccd9569341e5eacb241a1d13d450cfa27585d6
   "metadata": {},
   "outputs": [
    {
     "name": "stdout",
     "output_type": "stream",
     "text": [
      "[[-1.5  0.5]\n",
      " [ 1.   0. ]] \n",
      "\n",
      "[[1. 0.]\n",
      " [0. 1.]] \n",
      "\n"
     ]
    }
   ],
   "source": [
    "import numpy.linalg as lg\n",
    "A = np.array([[0, 1], [2, 3]])\n",
    "invA = lg.inv(A)\n",
    "print(invA, '\\n')\n",
    "print(A.dot(invA), '\\n')"
   ]
  },
  {
   "cell_type": "markdown",
   "metadata": {},
   "source": [
    "> ### 排序"
   ]
  },
  {
   "cell_type": "code",
<<<<<<< HEAD
   "execution_count": 45,
=======
   "execution_count": 8,
>>>>>>> a0ccd9569341e5eacb241a1d13d450cfa27585d6
   "metadata": {},
   "outputs": [
    {
     "name": "stdout",
     "output_type": "stream",
     "text": [
<<<<<<< HEAD
      "[12  1 11  4 14  5  9 13 10  7  2  3  8  0  6]\n",
      "[13  1 10 11  3  5 14  9 12  6  8  2  0  7  4]\n",
=======
      "[ 0 12  6  2 13  3  7  5  4  9  1 10  8 14 11]\n",
      "[ 0 10  3  5  8  7  2  6 12  9 11 14  1  4 13]\n",
>>>>>>> a0ccd9569341e5eacb241a1d13d450cfa27585d6
      "[ 0  1  2  3  4  5  6  7  8  9 10 11 12 13 14]\n"
     ]
    }
   ],
   "source": [
    "x = np.arange(15)\n",
    "np.random.shuffle(x)\n",
    "print(x)\n",
    "sx = np.argsort(x)\n",
    "print(sx)\n",
    "px = np.sort(x)\n",
    "print(px)"
   ]
  },
  {
   "cell_type": "markdown",
   "metadata": {},
   "source": [
    "> ### 数组大小比较"
   ]
  },
  {
   "cell_type": "code",
<<<<<<< HEAD
   "execution_count": 46,
=======
   "execution_count": 19,
>>>>>>> a0ccd9569341e5eacb241a1d13d450cfa27585d6
   "metadata": {},
   "outputs": [
    {
     "name": "stdout",
     "output_type": "stream",
     "text": [
      "4\n",
      "(array([0, 0, 0, 0], dtype=int64), array([0, 1, 2, 3], dtype=int64))\n",
      "[0 1 2 3]\n",
      "True\n",
      "False\n",
      "14\n",
      "0\n"
     ]
    }
   ],
   "source": [
    "x = np.arange(15).reshape(3, 5)\n",
    "cn = np.count_nonzero(x<=3)\n",
    "wh = np.where(x<=3)\n",
    "ex = np.extract(x<=3, x)\n",
    "print(cn)\n",
    "print(wh)\n",
    "print(ex)\n",
    "print(np.any(x == 0))\n",
    "print(np.all(x > 0))\n",
    "\n",
    "print(np.argmax(x))\n",
    "print(np.argmin(x))"
   ]
  },
  {
   "cell_type": "markdown",
   "metadata": {},
   "source": [
<<<<<<< HEAD
    "> ### sum"
   ]
  },
  {
   "cell_type": "code",
   "execution_count": 47,
   "metadata": {},
   "outputs": [
    {
     "name": "stdout",
     "output_type": "stream",
     "text": [
      "[[ 0  1  2  3  4]\n",
      " [ 5  6  7  8  9]\n",
      " [10 11 12 13 14]] \n",
      "\n",
      "105 \n",
      "\n",
      "[15 18 21 24 27] \n",
      "\n",
      "[10 35 60]\n"
     ]
    }
   ],
   "source": [
    "a = np.arange(15).reshape(3, 5)\n",
    "print(a, '\\n')\n",
    "# 所有元素相加\n",
    "print(a.sum(), '\\n')\n",
    "# 按列相加\n",
    "print(a.sum(axis=0), '\\n')\n",
    "# 按行相加\n",
    "print(a.sum(axis=1))"
   ]
  },
  {
   "cell_type": "markdown",
   "metadata": {},
   "source": [
    "> ### mean"
   ]
  },
  {
   "cell_type": "code",
   "execution_count": 48,
   "metadata": {},
   "outputs": [
    {
     "name": "stdout",
     "output_type": "stream",
     "text": [
      "[[ 0  1  2  3  4]\n",
      " [ 5  6  7  8  9]\n",
      " [10 11 12 13 14]] \n",
      "\n",
      "7.0 \n",
      "\n",
      "[5. 6. 7. 8. 9.] \n",
      "\n",
      "[ 2.  7. 12.]\n"
     ]
    }
   ],
   "source": [
    "a = np.arange(15).reshape(3, 5)\n",
    "print(a, '\\n')\n",
    "# 所有元素相加\n",
    "print(a.mean(), '\\n')\n",
    "# 按列相加\n",
    "print(a.mean(axis=0), '\\n')\n",
    "# 按行相加\n",
    "print(a.mean(axis=1))"
   ]
  },
  {
   "cell_type": "markdown",
   "metadata": {},
   "source": [
=======
>>>>>>> a0ccd9569341e5eacb241a1d13d450cfa27585d6
    "> ### 数组flatten"
   ]
  },
  {
   "cell_type": "code",
<<<<<<< HEAD
   "execution_count": 49,
=======
   "execution_count": 10,
>>>>>>> a0ccd9569341e5eacb241a1d13d450cfa27585d6
   "metadata": {},
   "outputs": [
    {
     "name": "stdout",
     "output_type": "stream",
     "text": [
      "[[ 0  1  2  3  4]\n",
      " [ 5  6  7  8  9]\n",
      " [10 11 12 13 14]]\n",
      "[ 0  1  2  3  4  5  6  7  8  9 10 11 12 13 14]\n",
      "[ 0  1  2  3  4  5  6  7  8  9 10 11 12 13 14]\n"
     ]
    }
   ],
   "source": [
    "# flatten和ravel都可以将数组展开，但flatten返回的是数组的拷贝，而ravel返回的是数组的视图\n",
    "x = np.arange(15).reshape(3, 5)\n",
    "a = x.flatten()\n",
    "print(x)\n",
    "print(a)\n",
    "print(x.ravel())"
   ]
  },
  {
   "cell_type": "markdown",
   "metadata": {},
   "source": [
    "> ### 数组拼接"
   ]
  },
  {
   "cell_type": "code",
<<<<<<< HEAD
   "execution_count": 50,
=======
   "execution_count": 11,
>>>>>>> a0ccd9569341e5eacb241a1d13d450cfa27585d6
   "metadata": {},
   "outputs": [
    {
     "name": "stdout",
     "output_type": "stream",
     "text": [
      "[[1 1]\n",
      " [0 1]\n",
      " [2 0]\n",
      " [3 4]]\n",
      "\n",
      "\n",
      "[[1 1 2 0]\n",
      " [0 1 3 4]]\n"
     ]
    }
   ],
   "source": [
    "A = np.array( [[1,1],\n",
    "               [0,1]] )\n",
    "B = np.array( [[2,0],\n",
    "               [3,4]] )\n",
    "print(np.vstack((A, B)))\n",
    "print('\\n')\n",
    "print(np.hstack((A, B)))"
   ]
  },
  {
<<<<<<< HEAD
   "cell_type": "code",
   "execution_count": 59,
   "metadata": {},
   "outputs": [
    {
     "name": "stdout",
     "output_type": "stream",
     "text": [
      "[[[1 1]\n",
      "  [2 0]]\n",
      "\n",
      " [[0 1]\n",
      "  [3 4]]] \n",
      "\n",
      "[[1 1 2 0]\n",
      " [0 1 3 4]]\n"
     ]
    }
   ],
   "source": [
    "# stack和concatenate\n",
    "\n",
    "# stack 将数据合并时，会增加一个维度\n",
    "a = np.stack((A, B), axis=1)\n",
    "print(a, '\\n')\n",
    "\n",
    "# concatenate将数据合并时，不会增加维度\n",
    "b = np.concatenate((A, B), axis=1)\n",
    "print(b)"
   ]
  },
  {
=======
>>>>>>> a0ccd9569341e5eacb241a1d13d450cfa27585d6
   "cell_type": "markdown",
   "metadata": {},
   "source": [
    "> ### 数组split\n",
    "### "
   ]
  },
  {
   "cell_type": "code",
<<<<<<< HEAD
   "execution_count": 51,
=======
   "execution_count": 12,
>>>>>>> a0ccd9569341e5eacb241a1d13d450cfa27585d6
   "metadata": {},
   "outputs": [
    {
     "name": "stdout",
     "output_type": "stream",
     "text": [
      "[[ 0  1  2  3  4  5  6  7  8  9 10 11]\n",
      " [12 13 14 15 16 17 18 19 20 21 22 23]]\n",
      "\n",
      "\n",
      "[array([[ 0,  1,  2,  3],\n",
      "       [12, 13, 14, 15]]), array([[ 4,  5,  6,  7],\n",
      "       [16, 17, 18, 19]]), array([[ 8,  9, 10, 11],\n",
      "       [20, 21, 22, 23]])]\n",
      "\n",
      "\n",
      "[array([[ 0,  1,  2],\n",
      "       [12, 13, 14]]), array([[ 3],\n",
      "       [15]]), array([[ 4,  5,  6,  7,  8,  9, 10, 11],\n",
      "       [16, 17, 18, 19, 20, 21, 22, 23]])]\n"
     ]
    }
   ],
   "source": [
    "a = np.arange(24).reshape(2, 12)\n",
    "print(a)\n",
    "print('\\n')\n",
    "print(np.hsplit(a, 3))\n",
    "print('\\n')\n",
    "print(np.hsplit(a, (3, 4)))"
   ]
  },
  {
   "cell_type": "markdown",
   "metadata": {},
   "source": [
<<<<<<< HEAD
    "> ### split和array_split\n",
    "* split按照行或者列将数组平均的分为n份，如果不能平均分割，就会报错\n",
    "* array_split和split作用相同，但不能平均分割不会报错，而是将其不等比分开\n",
    "* split和array_split传入参数如果不是一个整数，而是列表，则会将元素按照列表位置进行划分"
   ]
  },
  {
   "cell_type": "code",
   "execution_count": 52,
   "metadata": {},
   "outputs": [
    {
     "name": "stdout",
     "output_type": "stream",
     "text": [
      "[[ 0  1  2  3  4  5  6  7]\n",
      " [ 8  9 10 11 12 13 14 15]] \n",
      "\n",
      "[array([[0, 1],\n",
      "       [8, 9]]), array([[ 2,  3],\n",
      "       [10, 11]]), array([[ 4,  5],\n",
      "       [12, 13]]), array([[ 6,  7],\n",
      "       [14, 15]])] \n",
      "\n",
      "[array([[0, 1],\n",
      "       [8, 9]]), array([[ 2,  3],\n",
      "       [10, 11]]), array([[ 4,  5],\n",
      "       [12, 13]]), array([[ 6],\n",
      "       [14]]), array([[ 7],\n",
      "       [15]])] \n",
      "\n",
      "[array([[0],\n",
      "       [8]]), array([[ 1,  2],\n",
      "       [ 9, 10]]), array([[ 3,  4],\n",
      "       [11, 12]]), array([[ 5,  6,  7],\n",
      "       [13, 14, 15]])]\n"
     ]
    }
   ],
   "source": [
    "a = np.arange(16).reshape(2, -1)\n",
    "print(a, '\\n')\n",
    "print(np.split(a, 4, axis=1), '\\n')\n",
    "\n",
    "print(np.array_split(a, 5, axis=1), '\\n')\n",
    "\n",
    "print(np.split(a, (1, 3, 5), axis=1))"
   ]
  },
  {
   "cell_type": "markdown",
   "metadata": {},
   "source": [
    "> ### 数组复制tile"
   ]
  },
  {
   "cell_type": "code",
   "execution_count": 53,
   "metadata": {},
   "outputs": [
    {
     "data": {
      "text/plain": [
       "array([[0, 1, 2],\n",
       "       [3, 4, 5],\n",
       "       [0, 1, 2],\n",
       "       [3, 4, 5]])"
      ]
     },
     "execution_count": 53,
     "metadata": {},
     "output_type": "execute_result"
    }
   ],
   "source": [
    "# 将a复制为两行一列\n",
    "a = np.arange(6).reshape(2, 3)\n",
    "np.tile(a, (2, 1))"
   ]
  },
  {
   "cell_type": "markdown",
   "metadata": {},
   "source": [
=======
>>>>>>> a0ccd9569341e5eacb241a1d13d450cfa27585d6
    "> ### deep copy"
   ]
  },
  {
   "cell_type": "code",
<<<<<<< HEAD
   "execution_count": 54,
=======
   "execution_count": 13,
>>>>>>> a0ccd9569341e5eacb241a1d13d450cfa27585d6
   "metadata": {},
   "outputs": [
    {
     "name": "stdout",
     "output_type": "stream",
     "text": [
      "[ 0  1  2  3  4  5  6  7  8  9 10 11 12 13 14 15 16 17 18 19 20 21 22 23\n",
      " 24 25 26 27 28 29 30 31 32 33 34 35 36 37 38 39 40 41 42 43 44 45 46 47\n",
      " 48 49 50 51 52 53 54 55 56 57 58 59 60 61 62 63 64 65 66 67 68 69 70 71\n",
      " 72 73 74 75 76 77 78 79 80 81 82 83 84 85 86 87 88 89 90 91 92 93 94 95\n",
      " 96 97 98 99]\n"
     ]
    }
   ],
   "source": [
    "a = np.arange(int(1e8))\n",
    "b = a[:100].copy()\n",
    "del a\n",
    "print(b)"
   ]
  }
 ],
 "metadata": {
  "kernelspec": {
   "display_name": "Python 3",
   "language": "python",
   "name": "python3"
  },
  "language_info": {
   "codemirror_mode": {
    "name": "ipython",
    "version": 3
   },
   "file_extension": ".py",
   "mimetype": "text/x-python",
   "name": "python",
   "nbconvert_exporter": "python",
   "pygments_lexer": "ipython3",
   "version": "3.8.5"
  }
 },
 "nbformat": 4,
 "nbformat_minor": 4
}
